{
 "cells": [
  {
   "cell_type": "markdown",
   "id": "644d1959-9e40-45e6-8d3d-1ff3403415f3",
   "metadata": {},
   "source": [
    "# Pokémon competition\n",
    "\n",
    "In this notebook you have to provide the best pipeline that you have found to predict Pokémon battles.\n",
    "\n",
    "At the end you will have to generate a set of predictions over the unlabeled data `data.hidden` and `data_inverse.hidden`. In these unlabeled dataset you will find all the Pokémon battles that we will be performing in some *fictional* Pokémon competition, so we do not know the outcome of these battles right now!\n",
    "\n",
    "Remember to use all the tools that we have seen in class to evaluate and fine-tune your pipeline.\n",
    "\n",
    "*Gotta Predict 'Em All!*"
   ]
  },
  {
   "cell_type": "markdown",
   "id": "4654a998-6d49-4762-840d-9caab969e502",
   "metadata": {},
   "source": [
    "Paste here your pipeline:"
   ]
  },
  {
   "cell_type": "code",
   "execution_count": 1,
   "id": "87e27705-202a-4cd5-83a6-3e5e24bae19c",
   "metadata": {},
   "outputs": [
    {
     "data": {
      "text/plain": [
       "Pipeline(steps=[('preprocessing',\n",
       "                 ColumnTransformer(transformers=[('cat',\n",
       "                                                  Pipeline(steps=[('simpleimputer',\n",
       "                                                                   SimpleImputer(strategy='most_frequent')),\n",
       "                                                                  ('onehotencoder',\n",
       "                                                                   OneHotEncoder(drop='first',\n",
       "                                                                                 sparse=False))]),\n",
       "                                                  ['Type 1', 'Type 2',\n",
       "                                                   'Type 1__other',\n",
       "                                                   'Type 2__other']),\n",
       "                                                 ('num', SimpleImputer(),\n",
       "                                                  ['HP', 'Attack', 'Defense',\n",
       "                                                   'Sp. Atk', 'Sp. Def',\n",
       "                                                   'Speed', 'HP__other',\n",
       "                                                   'Attack__other',\n",
       "                                                   'Defense__other',\n",
       "                                                   'Sp. Atk__other',\n",
       "                                                   'Sp. Def__other',\n",
       "                                                   'Speed__other'])])),\n",
       "                ('predictor',\n",
       "                 RandomForestClassifier(bootstrap=False, max_features=0.3,\n",
       "                                        min_samples_split=3,\n",
       "                                        n_estimators=300))])"
      ]
     },
     "execution_count": 1,
     "metadata": {},
     "output_type": "execute_result"
    }
   ],
   "source": [
    "# Data: Replace it with the data from the provided datasets\n",
    "from pathlib import Path\n",
    "import pandas\n",
    "\n",
    "__wd__ = Path(\"__file__\").resolve().parent\n",
    "datasets_path = __wd__ / \"datasets\"\n",
    "\n",
    "data = pandas.read_csv(datasets_path / \"data.train\", index_col=0)\n",
    "inverse_data = pandas.read_csv(datasets_path / \"data_inverse.train\", index_col=0)\n",
    "\n",
    "def get_Xy(dataset):\n",
    "    return dataset.drop(\"Wins\", axis=1), dataset[\"Wins\"]\n",
    "\n",
    "X, y = get_Xy(data)\n",
    "\n",
    "\n",
    "# Pipeline: Replace it with the pipeline created in the other notebook.\n",
    "# You can remove the import after replacing the pipeline.\n",
    "from sklearn.pipeline import Pipeline, make_pipeline\n",
    "from sklearn.compose import ColumnTransformer\n",
    "from sklearn.impute import SimpleImputer\n",
    "from sklearn.preprocessing import OneHotEncoder\n",
    "from sklearn.ensemble import RandomForestClassifier\n",
    "from sklearn.dummy import DummyClassifier\n",
    "pipeline = DummyClassifier(strategy=\"uniform\")\n",
    "\n",
    "num = [\"HP\",\"Attack\", \"Defense\", \"Sp. Atk\",\"Sp. Def\", \"Speed\",\"HP__other\", \"Attack__other\",\"Defense__other\", \"Sp. Atk__other\", \"Sp. Def__other\", \"Speed__other\" ]\n",
    "cat = ['Type 1', 'Type 2', 'Type 1__other', 'Type 2__other']\n",
    "\n",
    "pipeline = Pipeline(\n",
    "    [\n",
    "        (\n",
    "            \"preprocessing\", ColumnTransformer(\n",
    "                [\n",
    "                    (\n",
    "                        \"cat\",\n",
    "                        make_pipeline(\n",
    "                            SimpleImputer(strategy=\"most_frequent\"),\n",
    "                            OneHotEncoder(sparse=False, drop=\"first\"),\n",
    "                        ),\n",
    "                        cat\n",
    "                    ),\n",
    "                    (\"num\", SimpleImputer(strategy=\"mean\"), num),\n",
    "                ],\n",
    "                remainder=\"drop\",\n",
    "            )\n",
    "        ),\n",
    "        (\"predictor\", RandomForestClassifier(bootstrap=False, max_features=0.3, min_samples_split=3, n_estimators=300)),\n",
    "    ]\n",
    ")\n",
    "\n",
    "# Train the pipeline\n",
    "pipeline.fit(X, y)"
   ]
  },
  {
   "cell_type": "code",
   "execution_count": 32,
   "id": "4e4ab623-dc53-4b71-8bd4-88db538ca049",
   "metadata": {},
   "outputs": [],
   "source": [
    "# !!!!!!!!!!!!!!!!!!!!!!!!\n",
    "# Do not change this code\n",
    "# !!!!!!!!!!!!!!!!!!!!!!!!\n",
    "import pandas\n",
    "from pathlib import Path\n",
    "\n",
    "__wd__ = Path(\"__file__\").resolve().parent\n",
    "datasets_path = __wd__ / \"datasets\"\n",
    "\n",
    "tournament = pandas.read_csv(datasets_path / \"data.hidden\", index_col=0)\n",
    "tournament_inverse = pandas.read_csv(datasets_path / \"data_inverse.hidden\", index_col=0)\n",
    "\n",
    "y_predicted = pipeline.predict(tournament)\n",
    "y_inverse_predicted = pipeline.predict(tournament_inverse)\n",
    "\n",
    "y_predicted.tofile(\"predicted.csv\", sep=\",\")\n",
    "y_inverse_predicted.tofile(\"predicted_inverse.csv\", sep=\",\")\n",
    "# !!!!!!!!!!!!!!!!!!!!!!!!\n",
    "# Do not change this code\n",
    "# !!!!!!!!!!!!!!!!!!!!!!!!"
   ]
  }
 ],
 "metadata": {
  "kernelspec": {
   "display_name": "base",
   "language": "python",
   "name": "python3"
  },
  "language_info": {
   "codemirror_mode": {
    "name": "ipython",
    "version": 3
   },
   "file_extension": ".py",
   "mimetype": "text/x-python",
   "name": "python",
   "nbconvert_exporter": "python",
   "pygments_lexer": "ipython3",
   "version": "3.9.7"
  },
  "vscode": {
   "interpreter": {
    "hash": "9470b8784b959759c7c699b367576c0be7b48eef9ff58c8b0d64956fc07e03c6"
   }
  }
 },
 "nbformat": 4,
 "nbformat_minor": 5
}
